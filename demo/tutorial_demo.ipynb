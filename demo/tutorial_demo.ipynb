{
 "cells": [
  {
   "attachments": {},
   "cell_type": "markdown",
   "metadata": {},
   "source": [
    "# Tutorial Control-机械臂控制"
   ]
  },
  {
   "attachments": {},
   "cell_type": "markdown",
   "metadata": {},
   "source": [
    "以下内容适用于仿真，控制实机可通过修改初始化机器人实例时的use_sim参数为False"
   ]
  },
  {
   "attachments": {},
   "cell_type": "markdown",
   "metadata": {},
   "source": [
    "### 初始化机械臂"
   ]
  },
  {
   "cell_type": "code",
   "execution_count": 3,
   "metadata": {},
   "outputs": [
    {
     "name": "stdout",
     "output_type": "stream",
     "text": [
      "[INFO] [1683357871.357294]: [arm_control] use_sim=False\n",
      "[INFO] [1683357871.358514]: [arm_control] 控制模式：g_i\n",
      "\u001b[0m[ INFO] [1683357871.366338136]: Loading robot model 'arx5_description'...\u001b[0m\n"
     ]
    },
    {
     "name": "stderr",
     "output_type": "stream",
     "text": [
      "\u001b[33m[ WARN] [1683357871.548218905]: IK plugin for group 'arx5_arm' relies on deprecated API. Please implement initialize(RobotModel, ...).\u001b[0m\n"
     ]
    },
    {
     "name": "stdout",
     "output_type": "stream",
     "text": [
      "\u001b[0m[ INFO] [1683357871.549637639]: IK Using joint link1 -2 3\u001b[0m\n",
      "\u001b[0m[ INFO] [1683357871.549654279]: IK Using joint link2 -3.18 0\u001b[0m\n",
      "\u001b[0m[ INFO] [1683357871.549663629]: IK Using joint link3 0 3.9\u001b[0m\n",
      "\u001b[0m[ INFO] [1683357871.549673676]: IK Using joint link4 -1.52 1.65\u001b[0m\n",
      "\u001b[0m[ INFO] [1683357871.549681800]: IK Using joint link5 -1.8 1.36\u001b[0m\n",
      "\u001b[0m[ INFO] [1683357871.549689693]: IK Using joint gripper_link1 -3.14 3.14\u001b[0m\n",
      "\u001b[0m[ INFO] [1683357871.549700061]: Looking in common namespaces for param name: arx5_arm/position_only_ik\u001b[0m\n",
      "\u001b[0m[ INFO] [1683357871.550250337]: Looking in common namespaces for param name: arx5_arm/solve_type\u001b[0m\n",
      "\u001b[0m[ INFO] [1683357871.550791118]: Using solve type Speed\u001b[0m\n",
      "\u001b[0m[ INFO] [1683357872.679141347]: Ready to take commands for planning group arx5_arm.\u001b[0m\n",
      "[INFO] [1683357872.887444]: [arm_control] 初始化位姿为[0.29731844072077895, 0.002014981494594598, 0.16292889243754932]+(-0.47363961782633557, -1.5707617841669725, -2.6679029994932772)+[-0.7070959127785262, -1.2119680314418708e-05, -0.7071176489410571, 2.326130543478281e-05]\n"
     ]
    }
   ],
   "source": [
    "import rospy\n",
    "from arx5_control.control import RoboticArmAgent\n",
    "# ROS节点初始化\n",
    "NODE_NAME = 'arm_control'\n",
    "rospy.init_node(NODE_NAME)\n",
    "# 初始化仿真机器人实例\n",
    "arm = RoboticArmAgent(use_sim=False,node_name=NODE_NAME,excute_mode=0)"
   ]
  },
  {
   "attachments": {},
   "cell_type": "markdown",
   "metadata": {},
   "source": [
    "### 机械臂控制"
   ]
  },
  {
   "cell_type": "code",
   "execution_count": null,
   "metadata": {},
   "outputs": [],
   "source": [
    "print(arm.joints_name)"
   ]
  },
  {
   "attachments": {},
   "cell_type": "markdown",
   "metadata": {},
   "source": [
    "#### 关节空间控制"
   ]
  },
  {
   "cell_type": "code",
   "execution_count": 4,
   "metadata": {},
   "outputs": [
    {
     "data": {
      "text/plain": [
       "True"
      ]
     },
     "execution_count": 4,
     "metadata": {},
     "output_type": "execute_result"
    }
   ],
   "source": [
    "import math\n",
    "# 控制机械臂的关节0和5（从底座到夹爪关节依次编号0-6）转动到45度和90度绝对位置处，然后暂停2s\n",
    "# 成功执行会看到返回True\n",
    "# arm.go_to_named_or_joint_target({0:math.pi/4,5:math.pi/2},sleep_time=2)\n",
    "arm.go_to_named_or_joint_target({5:math.pi/2},sleep_time=2)"
   ]
  },
  {
   "cell_type": "code",
   "execution_count": null,
   "metadata": {},
   "outputs": [],
   "source": [
    "# 控制关节0和5相对当前位置转动-45度和-90度，然后暂停2s\n",
    "arm.go_to_any_joint_target(5,-math.pi/4,sleep_time=2)"
   ]
  },
  {
   "cell_type": "code",
   "execution_count": null,
   "metadata": {},
   "outputs": [],
   "source": [
    "# 控制所有关节转动到指定的角度位置，然后暂停2s\n",
    "arm.go_to_named_or_joint_target([0, -0.419, 0.314, 0.297, 0, 0],sleep_time=2)"
   ]
  },
  {
   "attachments": {},
   "cell_type": "markdown",
   "metadata": {},
   "source": [
    "#### 工作空间控制"
   ]
  },
  {
   "cell_type": "markdown",
   "metadata": {},
   "source": [
    "0.5073,-0.0012,0.0896] rpy: [3.068,-1.529,0.091] xyzw: [-0.722,-0.007,-0.692,0.005]"
   ]
  },
  {
   "cell_type": "code",
   "execution_count": 2,
   "metadata": {},
   "outputs": [
    {
     "data": {
      "text/plain": [
       "True"
      ]
     },
     "execution_count": 2,
     "metadata": {},
     "output_type": "execute_result"
    }
   ],
   "source": [
    "position = [0.5073, -0.0012, 0.0896]  # xyz位置值\n",
    "rotation = [3.068,-1.529,0.091]  # rpy角度值\n",
    "arm.set_and_go_to_pose_target(position,rotation,'0',sleep_time=2)"
   ]
  },
  {
   "cell_type": "code",
   "execution_count": null,
   "metadata": {},
   "outputs": [],
   "source": [
    "# 控制机械臂末端到达指定的工作空间位置\n",
    "position = [0.5366743125587597, -0.05927820401460068, 0.046145324117931555]  # xyz位置值\n",
    "rotation = [0.23146008 , 0.53831586, -0.1807746  , 0.78991316]  # rpy角度值\n",
    "arm.set_and_go_to_pose_target(position,rotation,sleep_time=2)"
   ]
  },
  {
   "cell_type": "code",
   "execution_count": null,
   "metadata": {},
   "outputs": [],
   "source": [
    "import math\n",
    "# 控制机械臂末端增量式移动指定距离和角度\n",
    "pos_inc = [0,0,0]  # xyz位置增量值\n",
    "rot_inc = [math.pi/2,math.pi/2,math.pi/2]  # rpy角度增量值\n",
    "arm.set_and_go_to_pose_target(pos_inc,rot_inc,'last',sleep_time=2)  # last表示给定值是基于上次目标值的增量"
   ]
  },
  {
   "cell_type": "code",
   "execution_count": null,
   "metadata": {},
   "outputs": [],
   "source": [
    "# 单轴绝对式移动：控制机械臂末端x轴移动到0.08m处，其它轴位置保持不变\n",
    "# arm.go_to_single_axis_target(5,-1.686,sleep_time=2)\n",
    "# # 增量式移动：控制机械臂末端沿x轴反方向移动-0.05m，其它轴位置保持不变\n",
    "arm.go_to_shift_single_axis_target(4,0,sleep_time=2)"
   ]
  },
  {
   "attachments": {},
   "cell_type": "markdown",
   "metadata": {},
   "source": [
    "#### 末端夹爪控制"
   ]
  },
  {
   "cell_type": "code",
   "execution_count": null,
   "metadata": {},
   "outputs": [],
   "source": [
    "# 1：夹爪闭合，0：夹爪张开\n",
    "arm.gripper_control(1,sleep_time=1.5)"
   ]
  },
  {
   "cell_type": "code",
   "execution_count": null,
   "metadata": {},
   "outputs": [],
   "source": [
    "# 1：夹爪闭合，0：夹爪张开\n",
    "arm.gripper_control(0,sleep_time=1.5)"
   ]
  },
  {
   "attachments": {},
   "cell_type": "markdown",
   "metadata": {},
   "source": [
    "#### 预置位姿控制"
   ]
  },
  {
   "cell_type": "code",
   "execution_count": null,
   "metadata": {},
   "outputs": [],
   "source": [
    "print(arm.preset_pose)  # 查看所有预置位姿"
   ]
  },
  {
   "cell_type": "code",
   "execution_count": null,
   "metadata": {},
   "outputs": [],
   "source": [
    "arm.go_to_named_or_joint_target('Home')"
   ]
  },
  {
   "cell_type": "code",
   "execution_count": null,
   "metadata": {},
   "outputs": [],
   "source": [
    "import math\n",
    "arm.go_to_shift_single_axis_target(5,math.pi/2,sleep_time=2)"
   ]
  },
  {
   "cell_type": "code",
   "execution_count": null,
   "metadata": {},
   "outputs": [],
   "source": [
    "# arm.go_to_named_or_joint_target('PickReal')  # 按Ctrl+?可取消注释\n",
    "arm.go_to_named_or_joint_target('Forward')  # 按Ctrl+?可进行注释\n",
    "# arm.go_to_named_or_joint_target([0,-0.1467,0.1935,1.524,0,math.pi])  # 按Ctrl+?可进行注释\n",
    "# arm.go_to_named_or_joint_target('PickSim')  # 按Ctrl+?可进行注释\n",
    "# arm.go_to_named_or_joint_target('Standby')  # 按Ctrl+?可进行注释"
   ]
  },
  {
   "cell_type": "code",
   "execution_count": null,
   "metadata": {},
   "outputs": [],
   "source": [
    "import math\n",
    "arm.go_to_named_or_joint_target([0,-0.1467,0.1935,1.524,0,math.pi])"
   ]
  },
  {
   "attachments": {},
   "cell_type": "markdown",
   "metadata": {},
   "source": [
    "#### 信息打印输出"
   ]
  },
  {
   "cell_type": "code",
   "execution_count": null,
   "metadata": {},
   "outputs": [],
   "source": [
    "arm.log_arm_info(current_joint=True,current_pose=True,target_joint=True,target_pose=True,raw_info=True)"
   ]
  },
  {
   "cell_type": "code",
   "execution_count": null,
   "metadata": {},
   "outputs": [],
   "source": [
    "arm.log_arm_info(current_joint=True,current_pose=True,rot_mode=2,raw_info=True)"
   ]
  },
  {
   "cell_type": "code",
   "execution_count": null,
   "metadata": {},
   "outputs": [],
   "source": [
    "from tf_conversions import transformations\n",
    "print(list(transformations.euler_from_quaternion([-0.707,-0.000,-0.707,0.000])))"
   ]
  },
  {
   "attachments": {},
   "cell_type": "markdown",
   "metadata": {},
   "source": [
    "#### 退出ROS节点"
   ]
  },
  {
   "cell_type": "code",
   "execution_count": null,
   "metadata": {},
   "outputs": [],
   "source": [
    "# 关闭当前控制节点\n",
    "arm.go_to_named_or_joint_target('Home',sleep_time=3)\n",
    "rospy.signal_shutdown('end')"
   ]
  }
 ],
 "metadata": {
  "kernelspec": {
   "display_name": "Python 3",
   "language": "python",
   "name": "python3"
  },
  "language_info": {
   "codemirror_mode": {
    "name": "ipython",
    "version": 3
   },
   "file_extension": ".py",
   "mimetype": "text/x-python",
   "name": "python",
   "nbconvert_exporter": "python",
   "pygments_lexer": "ipython3",
   "version": "3.8.10"
  },
  "orig_nbformat": 4,
  "vscode": {
   "interpreter": {
    "hash": "916dbcbb3f70747c44a77c7bcd40155683ae19c65e1c03b4aa3499c5328201f1"
   }
  }
 },
 "nbformat": 4,
 "nbformat_minor": 2
}
