{
 "cells": [
  {
   "attachments": {},
   "cell_type": "markdown",
   "metadata": {},
   "source": [
    "# Tutorial Vision-视觉识别"
   ]
  },
  {
   "cell_type": "markdown",
   "metadata": {},
   "source": [
    "以下内容适用于仿真"
   ]
  },
  {
   "attachments": {},
   "cell_type": "markdown",
   "metadata": {},
   "source": [
    "### 获取相机信息及图像"
   ]
  },
  {
   "cell_type": "code",
   "execution_count": null,
   "metadata": {},
   "outputs": [],
   "source": [
    "import rospy\n",
    "from arx5_control.control import RoboticArmAgent\n",
    "# ROS节点初始化\n",
    "NODE_NAME='arm_vision'\n",
    "rospy.init_node(NODE_NAME)\n",
    "arm = RoboticArmAgent(use_sim=True,node_name=NODE_NAME)\n",
    "arm.go_to_named_or_joint_target('PickSim')\n"
   ]
  },
  {
   "cell_type": "code",
   "execution_count": null,
   "metadata": {},
   "outputs": [],
   "source": [
    "from sensor_msgs.msg import Image,CameraInfo\n",
    "# 获取相机参数，主要用到了分辨率作为参考\n",
    "camrera_info:CameraInfo = rospy.wait_for_message(\"/camera/color/camera_info\",\n",
    "                                                   CameraInfo,timeout=2)\n",
    "ImageSize = [camrera_info.width,camrera_info.height]\n",
    "print(ImageSize)"
   ]
  },
  {
   "cell_type": "code",
   "execution_count": null,
   "metadata": {},
   "outputs": [],
   "source": [
    "# 获取相机图像\n",
    "frame_ros = rospy.wait_for_message(\"camera/color/image_raw\",Image)"
   ]
  },
  {
   "attachments": {},
   "cell_type": "markdown",
   "metadata": {},
   "source": [
    "### 转换图像类型"
   ]
  },
  {
   "cell_type": "code",
   "execution_count": null,
   "metadata": {},
   "outputs": [],
   "source": [
    "from cv_bridge import CvBridge\n",
    "from arx5_vision.vision import StdVideo\n",
    "frame  = CvBridge().imgmsg_to_cv2(frame_ros, \"bgr8\")  # Image图像转换为cv2格式\n",
    "framecp = frame.copy()  # 为了避免原图被图像处理函数破坏，对原图进行复制，然后可以用复制后的图像进行处理\n",
    "StdVideo.plt_imgs_show(frame)"
   ]
  },
  {
   "cell_type": "code",
   "execution_count": null,
   "metadata": {},
   "outputs": [],
   "source": [
    "import cv2\n",
    "# 将图像从BGR颜色空间转换为HSV颜色空间\n",
    "img_hsv = cv2.cvtColor(frame, cv2.COLOR_BGR2HSV)\n",
    "# 分离H、S、V三个通道\n",
    "h, s, v = cv2.split(img_hsv)\n",
    "# 展示图像\n",
    "StdVideo.Show('out_put',[h,s,v],wait_time=0)"
   ]
  },
  {
   "attachments": {},
   "cell_type": "markdown",
   "metadata": {},
   "source": [
    "### 图像颜色分割"
   ]
  },
  {
   "cell_type": "code",
   "execution_count": null,
   "metadata": {},
   "outputs": [],
   "source": [
    "# 执行如下代码可以通过滑动条调整视觉参数\n",
    "HSV_L,HSV_H = StdVideo.color_thresh_determine(framecp)  # 阻塞，按esc退出"
   ]
  },
  {
   "cell_type": "code",
   "execution_count": null,
   "metadata": {},
   "outputs": [],
   "source": [
    "_,binary_img = StdVideo.color_filter(framecp,HSV_L,HSV_H)\n",
    "StdVideo.plt_imgs_show(binary_img)"
   ]
  },
  {
   "attachments": {},
   "cell_type": "markdown",
   "metadata": {},
   "source": [
    "### 图像轮廓提取"
   ]
  },
  {
   "cell_type": "code",
   "execution_count": null,
   "metadata": {},
   "outputs": [],
   "source": [
    "contours = StdVideo.Contour.find(binary_img)\n",
    "center_xy,bias_xyz,rotation_angle,box_int,cnt,w_h = StdVideo.Contour.NFC_F(contours,\n",
    "                                        (4000,60000),3.0,(ImageSize[0]/2,529,20000))\n",
    "if box_int is not None:\n",
    "    StdVideo.Contour.draw(frame,[box_int])  # 在原图上绘制\n",
    "    StdVideo.plt_imgs_show([frame,binary_img],dpi=100)"
   ]
  },
  {
   "attachments": {},
   "cell_type": "markdown",
   "metadata": {},
   "source": [
    "#### 退出ROS节点"
   ]
  },
  {
   "cell_type": "code",
   "execution_count": null,
   "metadata": {},
   "outputs": [],
   "source": [
    "# 关闭视觉节点\n",
    "rospy.signal_shutdown('end')"
   ]
  }
 ],
 "metadata": {
  "kernelspec": {
   "display_name": "Python 3",
   "language": "python",
   "name": "python3"
  },
  "language_info": {
   "codemirror_mode": {
    "name": "ipython",
    "version": 3
   },
   "file_extension": ".py",
   "mimetype": "text/x-python",
   "name": "python",
   "nbconvert_exporter": "python",
   "pygments_lexer": "ipython3",
   "version": "3.8.10"
  },
  "orig_nbformat": 4,
  "vscode": {
   "interpreter": {
    "hash": "916dbcbb3f70747c44a77c7bcd40155683ae19c65e1c03b4aa3499c5328201f1"
   }
  }
 },
 "nbformat": 4,
 "nbformat_minor": 2
}
